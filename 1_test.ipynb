{
 "cells": [
  {
   "cell_type": "code",
   "execution_count": 1,
   "metadata": {},
   "outputs": [
    {
     "name": "stdout",
     "output_type": "stream",
     "text": [
      "test\n",
      "Radar directory: /home/eric/ga27vaw/mt/radar_dataset/view_of_delft_PUBLIC/radar/training/velodyne\n",
      "Label directory: /home/eric/ga27vaw/mt/radar_dataset/view_of_delft_PUBLIC/lidar/training/label_2\n",
      "Output directory: /home/eric/ga27vaw/mt/radar_dataset/view-of-delft-dataset/output\n"
     ]
    },
    {
     "name": "stderr",
     "output_type": "stream",
     "text": [
      "Semantic data: Going through frames:   0%|          | 0/6435 [00:00<?, ?it/s]ERROR:root:00000.txt does not exist at location: !\n",
      "/home/eric/micromamba/envs/vod/lib/python3.9/site-packages/traittypes/traittypes.py:97: UserWarning: Given trait value dtype \"float64\" does not match required type \"float32\". A coerced copy has been created.\n",
      "  warnings.warn(\n"
     ]
    },
    {
     "data": {
      "application/vnd.jupyter.widget-view+json": {
       "model_id": "60509456c9e3438f93f9a065dee69f26",
       "version_major": 2,
       "version_minor": 0
      },
      "text/plain": [
       "Output()"
      ]
     },
     "metadata": {},
     "output_type": "display_data"
    }
   ],
   "source": [
    "# TODO\n",
    "import sys\n",
    "import os\n",
    "sys.path.append(os.path.abspath(\"../view-of-delft-dataset\"))\n",
    "\n",
    "from extraction import ParameterRangePlotter\n",
    "\n",
    "import matplotlib.pyplot as plt\n",
    "import seaborn as sns\n",
    "import numpy as np\n",
    "\n",
    "from datetime import datetime\n",
    "from enum import Enum\n",
    "from typing import List\n",
    "from extraction import DataVariant\n",
    "from extraction.stats_table import StatsTableGenerator\n",
    "from vod.configuration.file_locations import KittiLocations\n",
    "    \n",
    "print('test')    \n",
    "output_dir = \"output\"\n",
    "root_dir = \"../view_of_delft_PUBLIC/\"\n",
    "kitti_locations = KittiLocations(root_dir=root_dir,\n",
    "                                    output_dir=output_dir,\n",
    "                                    frame_set_path=\"\",\n",
    "                                    pred_dir=\"\",\n",
    "                                    )\n",
    "\n",
    "abs = lambda p: os.path.abspath(p)\n",
    "print(f\"Radar directory: {abs(kitti_locations.radar_dir)}\")\n",
    "print(f\"Label directory: {abs(kitti_locations.label_dir)}\")\n",
    "print(f\"Output directory: {abs(kitti_locations.output_dir)}\")\n",
    "\n",
    "plotter = ParameterRangePlotter(kitti_locations=kitti_locations)\n",
    "stats_generator = StatsTableGenerator(kitti_locations=kitti_locations)\n",
    "\n",
    "dvs = [DataVariant.SEMANTIC_RAD]\n",
    "\n",
    "for dv in dvs:\n",
    "    stats_generator.write_stats(dv)\n",
    "    plotter.plot_data_simple(dv)"
   ]
  }
 ],
 "metadata": {
  "kernelspec": {
   "display_name": "from_file",
   "language": "python",
   "name": "python3"
  },
  "language_info": {
   "codemirror_mode": {
    "name": "ipython",
    "version": 3
   },
   "file_extension": ".py",
   "mimetype": "text/x-python",
   "name": "python",
   "nbconvert_exporter": "python",
   "pygments_lexer": "ipython3",
   "version": "3.9.16"
  },
  "orig_nbformat": 4
 },
 "nbformat": 4,
 "nbformat_minor": 2
}
